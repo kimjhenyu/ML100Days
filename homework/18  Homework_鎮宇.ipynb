{
 "cells": [
  {
   "cell_type": "code",
   "execution_count": null,
   "id": "3b958ef9",
   "metadata": {},
   "outputs": [],
   "source": [
    "# 1.在速度較慢的時候，可以先從哪邊開始檢查？\n",
    "\n",
    "1.資料型態：速度－pkl > hdf > csv >>>>>>>>>>> xlxs\n",
    "2.使用內建函數\n",
    "3.使用向量化的資料處理函數：如 isin() "
   ]
  },
  {
   "cell_type": "code",
   "execution_count": null,
   "id": "663ec63e",
   "metadata": {},
   "outputs": [],
   "source": [
    "# 2.資料過大時應採取什麼方式讓記憶體占用量下降？\n",
    "\n",
    "將欄位的型態降級"
   ]
  }
 ],
 "metadata": {
  "kernelspec": {
   "display_name": "Python 3",
   "language": "python",
   "name": "python3"
  },
  "language_info": {
   "codemirror_mode": {
    "name": "ipython",
    "version": 3
   },
   "file_extension": ".py",
   "mimetype": "text/x-python",
   "name": "python",
   "nbconvert_exporter": "python",
   "pygments_lexer": "ipython3",
   "version": "3.8.8"
  }
 },
 "nbformat": 4,
 "nbformat_minor": 5
}
