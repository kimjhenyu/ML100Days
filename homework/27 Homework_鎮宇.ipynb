{
 "cells": [
  {
   "cell_type": "markdown",
   "metadata": {
    "id": "H-z4L8J371GO"
   },
   "source": [
    "## 作業:\n",
    "今天學到不同統計量之間特性，  \n",
    "試著分析男生女生身高資料，  \n",
    "試著回答下面的問題:  \n",
    "Q1:試著用今天所教的內容，如何描述這兩組資料的樣態?    \n",
    "Q2: 請問男生和女生在平均身高上誰比較高?   \n",
    "Q3:請問第二題的答案和日常生活中觀察的一致嗎? 如果不一致，你覺得原因可能為何?    \n",
    "上述問題透過  python 語法進行運算，\n",
    "並將上述答案填寫在 (google 表單)[https://docs.google.com/forms/d/e/1FAIpQLSdDzwpeJl8YLPwZaW8pBZvtuXY9kIbbZLqxcXyzFaoraV5JEA/viewform ]\n",
    "![](作業資料圖檔.PNG)"
   ]
  },
  {
   "cell_type": "code",
   "execution_count": 9,
   "metadata": {
    "id": "yz28_IgkYdBW"
   },
   "outputs": [],
   "source": [
    "# library\n",
    "import matplotlib.pyplot as plt\n",
    "import numpy as np\n",
    "import pandas as pd\n",
    "from scipy import stats as st\n",
    "import math\n",
    "import statistics\n",
    "import seaborn as sns"
   ]
  },
  {
   "cell_type": "code",
   "execution_count": 4,
   "metadata": {
    "id": "3NtzuWtt71GU",
    "outputId": "be21c4eb-a6c2-4674-aadd-d378bafc0428"
   },
   "outputs": [],
   "source": [
    "## 輸入資料\n",
    "boy=np.array([164,176,169,169,165,175,159,151,144,160,183,165,156,170,164,173,165,163,177,171])\n",
    "girl=np.array([169,183,170,168,182,170,173,185,151,156,162,169,162,181,159,154,167,175,170,160])"
   ]
  },
  {
   "cell_type": "code",
   "execution_count": 10,
   "metadata": {
    "id": "uDM9AzrY71GW",
    "outputId": "f4e7ede3-fda9-4858-f122-af7c3b3f3ad4"
   },
   "outputs": [
    {
     "name": "stdout",
     "output_type": "stream",
     "text": [
      "男生身高平均數: 165.95\n",
      "女生身高平均數: 168.3\n",
      "男生身高中位數: 165.0\n",
      "女生身高中位數: 169.0\n",
      "男生身高標準差: 9.213691185575838\n",
      "女生身高標準差: 9.766214587465353\n",
      "男生身高峰度: 0.19395882957876331\n",
      "女生身高偏度: 0.05985321129365068\n"
     ]
    }
   ],
   "source": [
    "# Q1:試著用今天所教的內容，如何描述這兩組資料的樣態?\n",
    "#暗示：分別計算男生和女生的統計量\n",
    "\n",
    "print(\"男生身高平均數:\",np.mean(boy))\n",
    "print(\"女生身高平均數:\",np.mean(girl))\n",
    "print(\"男生身高中位數:\",np.median(boy))\n",
    "print(\"女生身高中位數:\",np.median(girl))\n",
    "print(\"男生身高標準差:\",np.std(boy,ddof=1))\n",
    "print(\"女生身高標準差:\",np.std(girl,ddof=1))\n",
    "print(\"男生身高峰度:\",st.kurtosis(boy))\n",
    "print(\"女生身高偏度:\",st.skew(girl))"
   ]
  },
  {
   "cell_type": "code",
   "execution_count": 11,
   "metadata": {
    "id": "xH_GNsC271GW",
    "outputId": "f4b4c46a-0d8b-421c-9c70-0ebf2aab0e31"
   },
   "outputs": [
    {
     "name": "stdout",
     "output_type": "stream",
     "text": [
      "False\n"
     ]
    }
   ],
   "source": [
    "#Q2: 請問男生和女生在平均身高上誰比較高? \n",
    "\n",
    "print(np.mean(boy)>np.mean(girl))\n",
    "#女生平均身高比較高"
   ]
  },
  {
   "cell_type": "code",
   "execution_count": 13,
   "metadata": {
    "id": "xAzZU0Dv71GX",
    "outputId": "e2017c09-70fc-41ab-99c0-9d41fe21629d"
   },
   "outputs": [
    {
     "name": "stdout",
     "output_type": "stream",
     "text": [
      "不一致，誤差可能來自抽樣時挑選的樣本不能代表母體(台灣男生/女生身高)\n"
     ]
    }
   ],
   "source": [
    "#Q3:請問第二題的答案和日常生活中觀察的一致嗎? 如果不一致，你覺得原因可能為何? \n",
    "\n",
    "print(\"不一致，誤差可能來自抽樣時挑選的樣本不能代表母體(台灣男生/女生身高)\")"
   ]
  }
 ],
 "metadata": {
  "colab": {
   "collapsed_sections": [],
   "name": "作業.ipynb",
   "provenance": []
  },
  "kernelspec": {
   "display_name": "Python 3",
   "language": "python",
   "name": "python3"
  },
  "language_info": {
   "codemirror_mode": {
    "name": "ipython",
    "version": 3
   },
   "file_extension": ".py",
   "mimetype": "text/x-python",
   "name": "python",
   "nbconvert_exporter": "python",
   "pygments_lexer": "ipython3",
   "version": "3.8.8"
  }
 },
 "nbformat": 4,
 "nbformat_minor": 1
}
