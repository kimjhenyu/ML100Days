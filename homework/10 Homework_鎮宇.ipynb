{
 "cells": [
  {
   "cell_type": "markdown",
   "metadata": {
    "colab_type": "text",
    "id": "P6xk2_jLsvFF"
   },
   "source": [
    "# [作業目標]\n",
    "\n",
    "1. [簡答題] 請問下列四種不同的 DataFrame 選取結果有什麼差異？\n",
    "\n",
    "```\n",
    "df.loc[ '2013-01-01', 'A'] \n",
    "df.loc[ '2013-01-01', ['A', 'B'] ] \n",
    "df.loc[ '2013-01-01':'2013-01-02', 'A' ] \n",
    "df.loc[ '2013-01-01':'2013-01-05', 'A':'C'] \n",
    "```\n",
    "\n",
    "\n",
    "2. 請根據提供的資料，選擇出下列的要求：\n",
    "\n",
    "```\n",
    "# - select the first 3 rows.\n",
    "# - select the odd rows. (index = 1, 3, 5)\n",
    "# - select the last 2 columns.\n",
    "# - select the even columns. (index = 0, 2, 4)\n",
    "```\n",
    "\n",
    "3. 請根據提供的資料，選擇出下列的要求：\n",
    "\n",
    "```\n",
    "# - 1. filtered by first column > 20?\n",
    "# - 2. filtered by first column + second column > 50\n",
    "# - 3. filtered by first column < 30 or second column > 30\n",
    "# - 4. filtered by total sum of row > 100\n",
    "```"
   ]
  },
  {
   "cell_type": "markdown",
   "metadata": {
    "colab_type": "text",
    "id": "uXGll28asvFS"
   },
   "source": [
    "# 作業 "
   ]
  },
  {
   "cell_type": "markdown",
   "metadata": {},
   "source": [
    "### 1. [簡答題] 請問下列四種不同的 DataFrame 選取結果有什麼差異？\n",
    "\n",
    "```\n",
    "df.loc[ '2013-01-01', 'A'] \n",
    "df.loc[ '2013-01-01', ['A', 'B'] ] \n",
    "df.loc[ '2013-01-01':'2013-01-02', 'A' ] \n",
    "df.loc[ '2013-01-01':'2013-01-05', 'A':'C'] \n",
    "```\n",
    "\n",
    "\n",
    "\n"
   ]
  },
  {
   "cell_type": "code",
   "execution_count": 6,
   "metadata": {
    "colab": {},
    "colab_type": "code",
    "id": "5QrYoyNWsvFS"
   },
   "outputs": [
    {
     "name": "stdout",
     "output_type": "stream",
     "text": [
      "            A  B  C\n",
      "2013-01-01  1  4  7\n",
      "2013-01-03  2  5  8\n",
      "2013-01-05  3  6  9\n",
      "-------------\n",
      "1\n",
      "-------------\n",
      "A    1\n",
      "B    4\n",
      "Name: 2013-01-01, dtype: int64\n",
      "-------------\n",
      "2013-01-01    1\n",
      "Name: A, dtype: int64\n",
      "-------------\n",
      "            A  B  C\n",
      "2013-01-01  1  4  7\n",
      "2013-01-03  2  5  8\n",
      "2013-01-05  3  6  9\n"
     ]
    }
   ],
   "source": [
    "import pandas as pd\n",
    "df=pd.DataFrame({\n",
    "    \"A\":[1,2,3],\n",
    "    \"B\":[4,5,6],\n",
    "    \"C\":[7,8,9]\n",
    "},index=[\"2013-01-01\",\"2013-01-03\",\"2013-01-05\"])\n",
    "\n",
    "print(df)\n",
    "print(\"-------------\")\n",
    "print(df.loc[ '2013-01-01', 'A']) \n",
    "print(\"-------------\")\n",
    "print(df.loc[ '2013-01-01', ['A', 'B'] ] )\n",
    "print(\"-------------\")\n",
    "print(df.loc[ '2013-01-01':'2013-01-02', 'A' ] )\n",
    "print(\"-------------\")\n",
    "print(df.loc[ '2013-01-01':'2013-01-05', 'A':'C'] )"
   ]
  },
  {
   "cell_type": "markdown",
   "metadata": {},
   "source": [
    "### 2. 請根據提供的資料，選擇出下列的要求：\n",
    "\n",
    "```\n",
    "# - select the first 3 rows.\n",
    "# - select the odd rows. (index = 1, 3, 5)\n",
    "# - select the last 2 columns.\n",
    "# - select the even columns. (index = 0, 2, 4)\n",
    "```\n"
   ]
  },
  {
   "cell_type": "code",
   "execution_count": 9,
   "metadata": {},
   "outputs": [],
   "source": [
    "import pandas as pd\n",
    "import numpy as np"
   ]
  },
  {
   "cell_type": "code",
   "execution_count": 35,
   "metadata": {
    "colab": {},
    "colab_type": "code",
    "id": "e1gVI0tvsvFY"
   },
   "outputs": [
    {
     "name": "stdout",
     "output_type": "stream",
     "text": [
      "       col1      col2      col3\n",
      "0 -0.273308 -0.362574  1.420202\n",
      "1  0.197644  0.437006 -2.325502\n",
      "2  3.171643 -1.051538  0.609817\n",
      "3 -0.966922 -1.066624  0.331091\n",
      "4 -0.699208  0.551287  0.235427\n",
      "5  0.915574  0.855089  0.414703\n"
     ]
    }
   ],
   "source": [
    "df = pd.DataFrame(np.random.randn(6,3),columns=['col1','col2','col3'])\n",
    "print(df)"
   ]
  },
  {
   "cell_type": "code",
   "execution_count": 53,
   "metadata": {},
   "outputs": [
    {
     "name": "stdout",
     "output_type": "stream",
     "text": [
      "       col1      col2      col3\n",
      "0 -0.273308 -0.362574  1.420202\n",
      "1  0.197644  0.437006 -2.325502\n",
      "2  3.171643 -1.051538  0.609817\n",
      "3 -0.966922 -1.066624  0.331091\n",
      "-------------\n",
      "       col1      col2      col3\n",
      "1  0.197644  0.437006 -2.325502\n",
      "3 -0.966922 -1.066624  0.331091\n",
      "5  0.915574  0.855089  0.414703\n",
      "-------------\n",
      "       col2      col3\n",
      "0 -0.362574  1.420202\n",
      "1  0.437006 -2.325502\n",
      "2 -1.051538  0.609817\n",
      "3 -1.066624  0.331091\n",
      "4  0.551287  0.235427\n",
      "-------------\n",
      "       col1      col3\n",
      "0 -0.273308  1.420202\n",
      "2  3.171643  0.609817\n",
      "4 -0.699208  0.235427\n"
     ]
    }
   ],
   "source": [
    "# - select the first 3 rows.\n",
    "print(df.loc[:3])\n",
    "print(\"-------------\")\n",
    "\n",
    "# - select the odd rows. (index = 1, 3, 5)\n",
    "print(df.iloc[1::2])\n",
    "print(\"-------------\")\n",
    "\n",
    "# - select the last 2 columns.\n",
    "print(df.iloc[:5,1:])\n",
    "print(\"-------------\")\n",
    "\n",
    "# - select the even columns. (index = 0, 2, 4)\n",
    "print(df.iloc[::2,::2])"
   ]
  },
  {
   "cell_type": "markdown",
   "metadata": {},
   "source": [
    "### 3. 請根據提供的資料，選擇出下列的要求：\n",
    "\n",
    "```\n",
    "# - 1. filtered by first column > 20?\n",
    "# - 2. filtered by first column + second column > 50\n",
    "# - 3. filtered by first column < 30 or second column > 30\n",
    "# - 4. filtered by total sum of row > 100\n",
    "```"
   ]
  },
  {
   "cell_type": "code",
   "execution_count": 54,
   "metadata": {},
   "outputs": [
    {
     "name": "stdout",
     "output_type": "stream",
     "text": [
      "     0   1   2   3\n",
      "0   27  18  27  37\n",
      "1   38  32  28  35\n",
      "2   35  26  25  35\n",
      "3   23  11  35  37\n",
      "4   15  23  29  33\n",
      "5   10  20  15  33\n",
      "6   30  35  23  14\n",
      "7   37  18  38  27\n",
      "8   15  15  24  28\n",
      "9   15  36  22  23\n",
      "10  30  36  10  20\n",
      "11  15  20  15  15\n",
      "12  15  18  20  13\n",
      "13  24  30  30  37\n",
      "14  23  22  34  21\n"
     ]
    }
   ],
   "source": [
    "df = pd.DataFrame(np.random.randint(10, 40, 60).reshape(-1, 4))\n",
    "print(df)"
   ]
  },
  {
   "cell_type": "code",
   "execution_count": 75,
   "metadata": {},
   "outputs": [
    {
     "name": "stdout",
     "output_type": "stream",
     "text": [
      "     0   1   2   3\n",
      "0   27  18  27  37\n",
      "1   38  32  28  35\n",
      "2   35  26  25  35\n",
      "3   23  11  35  37\n",
      "6   30  35  23  14\n",
      "7   37  18  38  27\n",
      "10  30  36  10  20\n",
      "13  24  30  30  37\n",
      "14  23  22  34  21\n",
      "-------------\n",
      "     0   1   2   3\n",
      "1   38  32  28  35\n",
      "2   35  26  25  35\n",
      "6   30  35  23  14\n",
      "7   37  18  38  27\n",
      "9   15  36  22  23\n",
      "10  30  36  10  20\n",
      "13  24  30  30  37\n",
      "-------------\n",
      "     0   1   2   3\n",
      "0   27  18  27  37\n",
      "1   38  32  28  35\n",
      "3   23  11  35  37\n",
      "4   15  23  29  33\n",
      "5   10  20  15  33\n",
      "6   30  35  23  14\n",
      "8   15  15  24  28\n",
      "9   15  36  22  23\n",
      "10  30  36  10  20\n",
      "11  15  20  15  15\n",
      "12  15  18  20  13\n",
      "13  24  30  30  37\n",
      "14  23  22  34  21\n",
      "-------------\n",
      "     0   1   2   3\n",
      "0   27  18  27  37\n",
      "1   38  32  28  35\n",
      "2   35  26  25  35\n",
      "3   23  11  35  37\n",
      "6   30  35  23  14\n",
      "7   37  18  38  27\n",
      "13  24  30  30  37\n",
      "-------------\n",
      "     0   1   2   3\n",
      "0   27  18  27  37\n",
      "1   38  32  28  35\n",
      "2   35  26  25  35\n",
      "3   23  11  35  37\n",
      "6   30  35  23  14\n",
      "7   37  18  38  27\n",
      "13  24  30  30  37\n"
     ]
    }
   ],
   "source": [
    "# - 1. filtered by first column > 20?\n",
    "print(df[df[0]>20])\n",
    "print(\"-------------\")\n",
    "\n",
    "# - 2. filtered by first column + second column > 50\n",
    "print(df[df[0]+df[1]>50])\n",
    "print(\"-------------\")\n",
    "\n",
    "# - 3. filtered by first column < 30 or second column > 30\n",
    "print(df[(df[0]<30)|(df[1]>30)])\n",
    "print(\"-------------\")\n",
    "\n",
    "# - 4-1. filtered by total sum of row > 100\n",
    "print(df[(df[0]+df[1]+df[2]+df[3])>100])\n",
    "print(\"-------------\")\n",
    "\n",
    "# - 4-2. filtered by total sum of row > 100\n",
    "print(df[df.sum(axis = 1)>100])"
   ]
  }
 ],
 "metadata": {
  "colab": {
   "name": "Day_023_HW.ipynb",
   "provenance": []
  },
  "kernelspec": {
   "display_name": "Python 3",
   "language": "python",
   "name": "python3"
  },
  "language_info": {
   "codemirror_mode": {
    "name": "ipython",
    "version": 3
   },
   "file_extension": ".py",
   "mimetype": "text/x-python",
   "name": "python",
   "nbconvert_exporter": "python",
   "pygments_lexer": "ipython3",
   "version": "3.8.8"
  }
 },
 "nbformat": 4,
 "nbformat_minor": 1
}
